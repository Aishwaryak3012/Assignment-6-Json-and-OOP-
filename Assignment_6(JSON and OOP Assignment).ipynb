{
 "cells": [
  {
   "cell_type": "markdown",
   "id": "367fce82",
   "metadata": {},
   "source": [
    "## Assignment 1"
   ]
  },
  {
   "cell_type": "markdown",
   "id": "391eea95",
   "metadata": {},
   "source": [
    "### 1. Create a JSON file (employee.json) containing employee information of minimum 5 employees. Each employee information consists of Name, DOB, Height, City, State. Write a python program that reads this information from the JSON file and saves the information into a list of objects of Employee class. Finally print the list of the Employee objects."
   ]
  },
  {
   "cell_type": "code",
   "execution_count": 1,
   "id": "c745a95f",
   "metadata": {},
   "outputs": [
    {
     "name": "stdout",
     "output_type": "stream",
     "text": [
      "Enter the number of employees: 5\n",
      "Enter details for Employee 1:\n",
      "Name: Aishwarya\n",
      "DOB (YYYY-MM-DD): 1999-12-30\n",
      "Height: 5.2\n",
      "City: Nashik\n",
      "State: Maharashtra\n",
      "Enter details for Employee 2:\n",
      "Name: Komal\n",
      "DOB (YYYY-MM-DD): 1996-01-20\n",
      "Height: 5.6\n",
      "City: Satana\n",
      "State: Maharashtra\n",
      "Enter details for Employee 3:\n",
      "Name: Diya\n",
      "DOB (YYYY-MM-DD): 2001-11-24\n",
      "Height: 5\n",
      "City: Surat\n",
      "State: Gujarat\n",
      "Enter details for Employee 4:\n",
      "Name: Suhas\n",
      "DOB (YYYY-MM-DD): 1990-10-08\n",
      "Height: 6\n",
      "City: Mumbai\n",
      "State: Maharashtra\n",
      "Enter details for Employee 5:\n",
      "Name: Harsh\n",
      "DOB (YYYY-MM-DD): 1997-08-18\n",
      "Height: 5.8\n",
      "City: Pune\n",
      "State: Maharashtra\n"
     ]
    }
   ],
   "source": [
    "import json\n",
    "\n",
    "employee_data = []\n",
    "num_employees = int(input(\"Enter the number of employees: \"))\n",
    "\n",
    "for i in range(num_employees):\n",
    "    print(f\"Enter details for Employee {i + 1}:\")\n",
    "    name = input(\"Name: \")\n",
    "    dob = input(\"DOB (YYYY-MM-DD): \")\n",
    "    height = float(input(\"Height: \"))\n",
    "    city = input(\"City: \")\n",
    "    state = input(\"State: \")\n",
    "    employee_data.append({\n",
    "        \"Name\": name,\n",
    "        \"DOB\": dob,\n",
    "        \"Height\": height,\n",
    "        \"City\": city,\n",
    "        \"State\": state\n",
    "    })\n",
    "\n",
    "\n",
    "with open('employee.json', 'w') as file:\n",
    "    json.dump(employee_data, file, indent=4)"
   ]
  },
  {
   "cell_type": "code",
   "execution_count": 5,
   "id": "f3a9cb76",
   "metadata": {},
   "outputs": [
    {
     "name": "stdout",
     "output_type": "stream",
     "text": [
      "Name: Aishwarya, DOB: 1999-12-30, Height: 5.2, City: Nashik,State:Maharashtra\n",
      "Name: Komal, DOB: 1996-01-20, Height: 5.6, City: Satana,State:Maharashtra\n",
      "Name: Diya, DOB: 2001-11-24, Height: 5.0, City: Surat,State:Gujarat\n",
      "Name: Suhas, DOB: 1990-10-08, Height: 6.0, City: Mumbai,State:Maharashtra\n",
      "Name: Harsh, DOB: 1997-08-18, Height: 5.8, City: Pune,State:Maharashtra\n"
     ]
    }
   ],
   "source": [
    "import json\n",
    "\n",
    "class Employee:\n",
    "    def __init__(self, name, dob, height, city, state):\n",
    "        self.name = name\n",
    "        self.dob = dob\n",
    "        self.height = height\n",
    "        self.city = city\n",
    "        self.state = state\n",
    "\n",
    "with open('employee.json', 'r') as file:\n",
    "    employee_data = json.load(file)\n",
    "\n",
    "employee_objects = []\n",
    "for employee in employee_data:\n",
    "    employee_obj = Employee(\n",
    "        employee[\"Name\"],\n",
    "        employee[\"DOB\"],\n",
    "        employee[\"Height\"],\n",
    "        employee[\"City\"],\n",
    "        employee[\"State\"]\n",
    "    )\n",
    "    employee_objects.append(employee_obj)\n",
    "\n",
    "for employee in employee_objects:\n",
    "    print(f\"Name: {employee.name}, DOB: {employee.dob}, Height: {employee.height}, City: {employee.city},State:{employee.state}\")"
   ]
  },
  {
   "cell_type": "markdown",
   "id": "cf941aa8",
   "metadata": {},
   "source": [
    "### 2. Create a dictionary of any 7 Indian states and their capitals. Write this into a JSON file."
   ]
  },
  {
   "cell_type": "code",
   "execution_count": 6,
   "id": "98f6c478",
   "metadata": {},
   "outputs": [
    {
     "name": "stdout",
     "output_type": "stream",
     "text": [
      "Enter an Indian state: Maharashtra\n",
      "Enter the capital of Maharashtra: Mumbai\n",
      "Enter an Indian state: Gujarat\n",
      "Enter the capital of Gujarat: Gandhinagar\n",
      "Enter an Indian state: Assam\n",
      "Enter the capital of Assam: Dispur\n",
      "Enter an Indian state: Himachal Pradesh\n",
      "Enter the capital of Himachal Pradesh: Shimla\n",
      "Enter an Indian state: Tamil Nadu\n",
      "Enter the capital of Tamil Nadu: Chennai\n",
      "Enter an Indian state: Punjab\n",
      "Enter the capital of Punjab: Chandigarh\n",
      "Enter an Indian state: Karnatak\n",
      "Enter the capital of Karnatak: Bengalore\n",
      "JSON file created successfully.\n"
     ]
    }
   ],
   "source": [
    "import json\n",
    "\n",
    "indian_states = {}\n",
    "\n",
    "for _ in range(7):\n",
    "    state = input(\"Enter an Indian state: \")\n",
    "    capital = input(f\"Enter the capital of {state}: \")\n",
    "    indian_states[state] = capital\n",
    "\n",
    "with open(\"indian_states.json\", \"w\") as json_file:\n",
    "    json.dump(indian_states, json_file,indent=4)\n",
    "\n",
    "print(\"JSON file created successfully.\")\n"
   ]
  },
  {
   "cell_type": "markdown",
   "id": "b2b15f4f",
   "metadata": {},
   "source": [
    "## Assignment 2"
   ]
  },
  {
   "cell_type": "markdown",
   "id": "806a1809",
   "metadata": {},
   "source": [
    "### 1. Create a class named ‘Dog’. It should have a constructor which accepts its name, age and coat color. You must perform the following operations:"
   ]
  },
  {
   "cell_type": "markdown",
   "id": "6deb84d5",
   "metadata": {},
   "source": [
    "a. It should have a function ‘description()’ which prints the name and age of the dog.\n",
    "\n",
    "b. It should have a function ‘get_info()’ which prints the coat color of the dog.\n",
    "\n",
    "c. Create child classes ‘JackRussellTerrier’ and ‘Bulldog’ which is inherited from the class ‘Dog’. It should have at least two methods of its own.\n",
    "\n",
    "d. Create objects and implement the above functionalities."
   ]
  },
  {
   "cell_type": "code",
   "execution_count": 11,
   "id": "18184a5f",
   "metadata": {},
   "outputs": [
    {
     "name": "stdout",
     "output_type": "stream",
     "text": [
      "Enter dog's name: Leo\n",
      "Enter dog's age: 4\n",
      "Enter coat color: Brown\n",
      "Enter dog type (1 for JackRussellTerrier, 2 for Bulldog, any other key for default Dog): 2\n",
      "Enter strength: 2\n",
      "Dog's name is Leo and age is 4 years.\n",
      "The dog's coat color is Brown.\n",
      "Leo is known for its strength: 2.\n"
     ]
    }
   ],
   "source": [
    "class Dog:\n",
    "    def __init__(self, name, age, coat_color):\n",
    "        self.name = name\n",
    "        self.age = age\n",
    "        self.coat_color = coat_color\n",
    "\n",
    "    def description(self):\n",
    "        print(f\"Dog's name is {self.name} and age is {self.age} years.\")\n",
    "\n",
    "    def get_info(self):\n",
    "        print(f\"The dog's coat color is {self.coat_color}.\")\n",
    "\n",
    "class JackRussellTerrier(Dog):\n",
    "    def __init__(self, name, age, coat_color, uniqueness):\n",
    "        super().__init__(name, age, coat_color)\n",
    "        self.uniqueness = uniqueness\n",
    "\n",
    "    def speciality(self):\n",
    "        print(f\"{self.name} has a uniqueness: {self.uniqueness}.\")\n",
    "\n",
    "class Bulldog(Dog):\n",
    "    def __init__(self, name, age, coat_color, strength):\n",
    "        super().__init__(name, age, coat_color)\n",
    "        self.strength = strength\n",
    "\n",
    "    def show_strength(self):\n",
    "        print(f\"{self.name} is known for its strength: {self.strength}.\")\n",
    "\n",
    "# Taking user input for dog objects\n",
    "def create_dog():\n",
    "    name = input(\"Enter dog's name: \")\n",
    "    age = int(input(\"Enter dog's age: \"))\n",
    "    coat_color = input(\"Enter coat color: \")\n",
    "    dog_type = int(input(\"Enter dog type (1 for JackRussellTerrier, 2 for Bulldog, any other key for default Dog): \"))\n",
    "    if dog_type == 1:\n",
    "        uniqueness = input(\"Enter uniqueness: \")\n",
    "        return JackRussellTerrier(name, age, coat_color, uniqueness)\n",
    "    elif dog_type == 2:\n",
    "        strength = input(\"Enter strength: \")\n",
    "        return Bulldog(name, age, coat_color, strength)\n",
    "    else:\n",
    "        return Dog(name, age, coat_color)\n",
    "\n",
    "dog = create_dog()\n",
    "\n",
    "dog.description()\n",
    "dog.get_info()\n",
    "\n",
    "if isinstance(dog, JackRussellTerrier):\n",
    "    dog.speciality()\n",
    "elif isinstance(dog, Bulldog):\n",
    "    dog.show_strength()"
   ]
  }
 ],
 "metadata": {
  "kernelspec": {
   "display_name": "Python 3 (ipykernel)",
   "language": "python",
   "name": "python3"
  },
  "language_info": {
   "codemirror_mode": {
    "name": "ipython",
    "version": 3
   },
   "file_extension": ".py",
   "mimetype": "text/x-python",
   "name": "python",
   "nbconvert_exporter": "python",
   "pygments_lexer": "ipython3",
   "version": "3.10.9"
  }
 },
 "nbformat": 4,
 "nbformat_minor": 5
}
